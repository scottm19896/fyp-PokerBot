# -*- coding: utf-8 -*-
"""
Created on Wed Mar 20 22:55:37 2019

@author: squas
"""

from HeadsUpLimitHoldemCasino import Game
from StatisticalBot import StatisticalBot
from BotX import Bot
import pandas as pd
import sys
from pdb import set_trace as breakp
#import PokerCNN
from progress.bar import Bar
import matplotlib.pyplot as plt

REPORT_FILE="10_StatsVSCallBot_Simulation5.csv"
ITERATIONS = 30
class Tests:
    def __init__(self):
        self.callbot_test_Statistic=pd.DataFrame(columns=['Iteration','Stats Win','Call Win','Draw','Test'])
        self.foldbot_test_Statistic=pd.DataFrame(columns=['Iteration','Stats Win','Call Win','Draw','Test'])
    def RunSimulation(self,player_1,player_2,test_type):
        df = pd.DataFrame()
        if test_type == "StatVCall": df = self.callbot_test_Statistic
        if test_type == 'StatVFold': df = self.foldbot_test_Statistic
        for iteration in range(ITERATIONS):
            p1_wins=0
            p2_wins=0
            draws=0
            game=Game()
            game.current_table.BuyIn([player_1,player_2],300)
            sys.stdout.write(f'{(iteration+1)*5} / {ITERATIONS*5} {(((iteration+1)*5)/(ITERATIONS*5))*100} %'); sys.stdout.flush();  # print a small progress bar
            winner = game.PlayGame(no_of_games=5)
            p2_wins += winner.count(2)
            p1_wins += winner.count(1)
            draws += winner.count(2)
        df = df.append({'Iteration':iteration,'Stats Win' : p1_wins, 'Call Win' : p2_wins , 'Draw' : draws, 'Test' : test_type} , ignore_index=True)
            
        self.SendToCsv(df,REPORT_FILE)
    def SendToCsv(self,df,file_path):
        df.to_csv(file_path)
        plt.plot(df['Stats Win'])
        print(df['Stats Win'].std())
        print(df['Call Win'].std())
        plt.ylabel('Wins Per 100')


class Analysis:
    def __init__(self,output_file=""):
        self.results_output=output_file
    def Analyse(self,test_result):
        statistical_bot=self.RunStatisticalBotAnalysis(test_result[0])
        poker_cnn=self.RunPokerCNNAnalysis(test_result[1])
        self.Report([statistical_bot,poker_cnn])
    def RunStatisticalBotAnalysis(self,statistical_bot_results):
        return
    def RunPokerCNNAnalysis(self,poker_cnn_results):
        return
    def Report(self,analysis_results):
        with open(self.results_output,'w') as f:
            f.write("")



if __name__== '__main__':
    tests=Tests()
    analysis=Analysis("10000_StatsVSCallBot_Simulation.csv")
    player_2 = StatisticalBot()
    player_2.ResetFoldPercent(0.0)
    player_1 = Bot()
    player_1.X = 'c'
    tests.RunSimulation(player_1,player_2,"StatVCall")
    #analysis.Analyse([tests.callbot_test_PokerCNN,tests.callbot_test_Statistic,tests.foldbot_test_PokerCNN,tests.foldbot_test_Statistic])
    #tests.WinRate("10000_StatsVSCallBot_Simulation.csv")